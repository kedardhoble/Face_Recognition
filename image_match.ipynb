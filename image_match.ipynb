{
 "cells": [
  {
   "cell_type": "code",
   "execution_count": 1,
   "metadata": {},
   "outputs": [],
   "source": [
    "import cv2\n",
    "import numpy as np\n",
    "import face_recognition\n",
    "import os"
   ]
  },
  {
   "cell_type": "code",
   "execution_count": 2,
   "metadata": {},
   "outputs": [],
   "source": [
    "imgcr7=face_recognition.load_image_file(r\"/home/kedardhoble/Desktop/kedar/Face_Recognition/data/cr7.png\")\n",
    "imgcr7=cv2.cvtColor(imgcr7, cv2.COLOR_BGR2RGB)\n",
    "imgtest=face_recognition.load_image_file(r\"/home/kedardhoble/Desktop/kedar/Face_Recognition/data/2testcr7.jpg\")\n",
    "imgtest=cv2.cvtColor(imgtest, cv2.COLOR_BGR2RGB)"
   ]
  },
  {
   "cell_type": "code",
   "execution_count": 3,
   "metadata": {},
   "outputs": [
    {
     "name": "stdout",
     "output_type": "stream",
     "text": [
      "[True] [0.47090008]\n"
     ]
    },
    {
     "ename": "",
     "evalue": "",
     "output_type": "error",
     "traceback": [
      "\u001b[1;31mThe Kernel crashed while executing code in the the current cell or a previous cell. Please review the code in the cell(s) to identify a possible cause of the failure. Click <a href='https://aka.ms/vscodeJupyterKernelCrash'>here</a> for more info. View Jupyter <a href='command:jupyter.viewOutput'>log</a> for further details."
     ]
    }
   ],
   "source": [
    "faceLoc=face_recognition.face_locations(imgcr7)[0]\n",
    "encodecr7=face_recognition.face_encodings(imgcr7)[0]\n",
    "cv2.rectangle(imgcr7,(faceLoc[3],faceLoc[0]),(faceLoc[1],faceLoc[2]),(255,0,255),2)\n",
    "\n",
    "faceLoc=face_recognition.face_locations(imgtest)[0]\n",
    "encodetest=face_recognition.face_encodings(imgtest)[0]\n",
    "cv2.rectangle(imgtest, (faceLoc[3], faceLoc[0]), (faceLoc[1], faceLoc[2]), (255,0,255), 2)\n",
    "\n",
    "results=face_recognition.compare_faces([encodecr7], encodetest)\n",
    "faceDis=face_recognition.face_distance([encodecr7], encodetest)\n",
    "print(results, faceDis)\n",
    "\n",
    "cv2.putText(imgtest,f'{results} {round(faceDis[0],2)}',(50,50),cv2.FONT_HERSHEY_COMPLEX,1,(255,0,0),2)\n",
    "cv2.imshow('CR7', imgcr7)\n",
    "cv2.imshow('CR7_TEST', imgtest)"
   ]
  },
  {
   "cell_type": "code",
   "execution_count": null,
   "metadata": {},
   "outputs": [],
   "source": []
  }
 ],
 "metadata": {
  "kernelspec": {
   "display_name": "Python 3",
   "language": "python",
   "name": "python3"
  },
  "language_info": {
   "codemirror_mode": {
    "name": "ipython",
    "version": 3
   },
   "file_extension": ".py",
   "mimetype": "text/x-python",
   "name": "python",
   "nbconvert_exporter": "python",
   "pygments_lexer": "ipython3",
   "version": "3.8.10"
  },
  "orig_nbformat": 4
 },
 "nbformat": 4,
 "nbformat_minor": 2
}
