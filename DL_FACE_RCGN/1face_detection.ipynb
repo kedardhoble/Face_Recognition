{
 "cells": [
  {
   "cell_type": "code",
   "execution_count": 8,
   "metadata": {},
   "outputs": [],
   "source": [
    "import PIL.Image\n",
    "import PIL.ImageDraw\n",
    "import face_recognition"
   ]
  },
  {
   "cell_type": "code",
   "execution_count": 9,
   "metadata": {},
   "outputs": [],
   "source": [
    "# Load the jpg file into a numpy array\n",
    "image = face_recognition.load_image_file(r\"/home/kedardhoble/Desktop/kedar/Face_Recognition/data/people.jpg\")"
   ]
  },
  {
   "cell_type": "code",
   "execution_count": 10,
   "metadata": {},
   "outputs": [
    {
     "name": "stdout",
     "output_type": "stream",
     "text": [
      "I found 23 face(s) in this photograph.\n"
     ]
    }
   ],
   "source": [
    "# Find all the faces in the image\n",
    "face_locations = face_recognition.face_locations(image)\n",
    "number_of_faces = len(face_locations)\n",
    "print(\"I found {} face(s) in this photograph.\".format(number_of_faces))"
   ]
  },
  {
   "cell_type": "code",
   "execution_count": 11,
   "metadata": {},
   "outputs": [],
   "source": [
    "# Load the image into a Python Image Library object so that we can draw on top of it and display it\n",
    "pil_image = PIL.Image.fromarray(image)"
   ]
  },
  {
   "cell_type": "code",
   "execution_count": 12,
   "metadata": {},
   "outputs": [
    {
     "name": "stdout",
     "output_type": "stream",
     "text": [
      "A face is located at pixel location Top: 95, Left: 498, Bottom: 147, Right: 550\n",
      "A face is located at pixel location Top: 115, Left: 626, Bottom: 177, Right: 688\n",
      "A face is located at pixel location Top: 129, Left: 190, Bottom: 191, Right: 252\n",
      "A face is located at pixel location Top: 36, Left: 564, Bottom: 79, Right: 607\n",
      "A face is located at pixel location Top: 31, Left: 64, Bottom: 74, Right: 108\n",
      "A face is located at pixel location Top: 239, Left: 266, Bottom: 301, Right: 328\n",
      "A face is located at pixel location Top: 15, Left: 423, Bottom: 67, Right: 475\n",
      "A face is located at pixel location Top: 177, Left: 356, Bottom: 239, Right: 418\n",
      "A face is located at pixel location Top: 72, Left: 383, Bottom: 124, Right: 435\n",
      "A face is located at pixel location Top: 124, Left: 101, Bottom: 176, Right: 152\n",
      "A face is located at pixel location Top: 182, Left: 550, Bottom: 234, Right: 602\n",
      "A face is located at pixel location Top: 301, Left: 598, Bottom: 364, Right: 660\n",
      "A face is located at pixel location Top: 246, Left: 432, Bottom: 308, Right: 494\n",
      "A face is located at pixel location Top: 420, Left: 337, Bottom: 495, Right: 411\n",
      "A face is located at pixel location Top: 0, Left: 193, Bottom: 34, Right: 229\n",
      "A face is located at pixel location Top: 445, Left: 155, Bottom: 528, Right: 245\n",
      "A face is located at pixel location Top: 426, Left: 653, Bottom: 528, Right: 760\n",
      "A face is located at pixel location Top: 370, Left: 494, Bottom: 445, Right: 569\n",
      "A face is located at pixel location Top: 49, Left: 279, Bottom: 101, Right: 331\n",
      "A face is located at pixel location Top: 239, Left: 743, Bottom: 301, Right: 800\n",
      "A face is located at pixel location Top: 288, Left: 100, Bottom: 350, Right: 163\n",
      "A face is located at pixel location Top: 66, Left: 667, Bottom: 129, Right: 729\n",
      "A face is located at pixel location Top: 66, Left: 769, Bottom: 102, Right: 800\n"
     ]
    }
   ],
   "source": [
    "for face_location in face_locations:\n",
    "\n",
    "    # Print the location of each face in this image. Each face is a list of co-ordinates in (top, right, bottom, left) order.\n",
    "    top, right, bottom, left = face_location\n",
    "    print(\"A face is located at pixel location Top: {}, Left: {}, Bottom: {}, Right: {}\".format(top, left, bottom, right))\n",
    "\n",
    "    # Let's draw a box around the face\n",
    "    draw = PIL.ImageDraw.Draw(pil_image)\n",
    "    draw.rectangle([left, top, right, bottom], outline=\"red\")\n",
    "\n",
    "# Display the image on screen\n"
   ]
  },
  {
   "cell_type": "code",
   "execution_count": 14,
   "metadata": {},
   "outputs": [],
   "source": [
    "pil_image.show()"
   ]
  },
  {
   "cell_type": "code",
   "execution_count": null,
   "metadata": {},
   "outputs": [],
   "source": []
  }
 ],
 "metadata": {
  "kernelspec": {
   "display_name": "Python 3 (ipykernel)",
   "language": "python",
   "name": "python3"
  },
  "language_info": {
   "codemirror_mode": {
    "name": "ipython",
    "version": 3
   },
   "file_extension": ".py",
   "mimetype": "text/x-python",
   "name": "python",
   "nbconvert_exporter": "python",
   "pygments_lexer": "ipython3",
   "version": "3.8.10"
  }
 },
 "nbformat": 4,
 "nbformat_minor": 2
}
