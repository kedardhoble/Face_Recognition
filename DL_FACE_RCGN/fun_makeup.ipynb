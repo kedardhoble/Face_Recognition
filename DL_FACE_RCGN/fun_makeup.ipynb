{
 "cells": [
  {
   "cell_type": "code",
   "execution_count": 6,
   "metadata": {},
   "outputs": [],
   "source": [
    "from PIL import Image, ImageDraw\n",
    "import face_recognition"
   ]
  },
  {
   "cell_type": "code",
   "execution_count": 7,
   "metadata": {},
   "outputs": [],
   "source": [
    "# Load the jpg file into a numpy array\n",
    "image = face_recognition.load_image_file(r\"/home/kedardhoble/Desktop/kedar/Face_Recognition/data/cr7.png\")\n",
    "\n",
    "# Find all facial features in all the faces in the image\n",
    "face_landmarks_list = face_recognition.face_landmarks(image)\n",
    "\n",
    "# Load the image into a Python Image Library object so that we can draw on top of it and display it\n",
    "pil_image = Image.fromarray(image)"
   ]
  },
  {
   "cell_type": "code",
   "execution_count": 8,
   "metadata": {},
   "outputs": [],
   "source": [
    "# Create a PIL drawing object to be able to draw lines later\n",
    "d = ImageDraw.Draw(pil_image, 'RGBA')"
   ]
  },
  {
   "cell_type": "code",
   "execution_count": 11,
   "metadata": {},
   "outputs": [],
   "source": [
    "for face_landmarks in face_landmarks_list:\n",
    "    # The face landmark detection model returns these features:\n",
    "    #  - chin, left_eyebrow, right_eyebrow, nose_bridge, nose_tip, left_eye, right_eye, top_lip, bottom_lip\n",
    "\n",
    "    # Draw a line over the eyebrows\n",
    "    d.line(face_landmarks['left_eyebrow'], fill=(0, 255, 0, 100), width=20)\n",
    "    d.line(face_landmarks['right_eyebrow'], fill=(128, 0, 128, 100), width=20)\n",
    "\n",
    "    # Draw over the lips\n",
    "    d.polygon(face_landmarks['top_lip'], fill=(128, 0, 128, 100))\n",
    "    d.polygon(face_landmarks['bottom_lip'], fill=(128, 0, 128, 100))\n",
    "\n",
    "# Show the final image\n",
    "pil_image.show()"
   ]
  },
  {
   "cell_type": "code",
   "execution_count": null,
   "metadata": {},
   "outputs": [],
   "source": []
  },
  {
   "cell_type": "code",
   "execution_count": null,
   "metadata": {},
   "outputs": [],
   "source": []
  }
 ],
 "metadata": {
  "kernelspec": {
   "display_name": "Python 3 (ipykernel)",
   "language": "python",
   "name": "python3"
  },
  "language_info": {
   "codemirror_mode": {
    "name": "ipython",
    "version": 3
   },
   "file_extension": ".py",
   "mimetype": "text/x-python",
   "name": "python",
   "nbconvert_exporter": "python",
   "pygments_lexer": "ipython3",
   "version": "3.8.10"
  }
 },
 "nbformat": 4,
 "nbformat_minor": 2
}
